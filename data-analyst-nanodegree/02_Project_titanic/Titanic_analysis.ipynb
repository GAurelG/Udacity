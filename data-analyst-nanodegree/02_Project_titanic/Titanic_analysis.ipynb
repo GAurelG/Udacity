{
 "cells": [
  {
   "cell_type": "markdown",
   "metadata": {
    "collapsed": true
   },
   "source": [
    "# Titanic Project:\n",
    "\n",
    "For this projet, I will analyse some of the data from the titanic passenger.\n",
    "\n",
    "## Looking at the data:\n",
    "\n",
    "I first found some informations about the data (source [kaagle](https://www.kaggle.com/c/titanic/data))\n",
    "These informations help to understand how each variable is created and what values it should take.\n",
    "\n",
    "> ### Variable descriptions:\n",
    ">\n",
    ">- survival:        Survival  (0 = No; 1 = Yes)\n",
    ">- pclass:          Passenger Class  (1 = 1st; 2 = 2nd; 3 = 3rd)\n",
    ">- name:            Name\n",
    ">- sex:             Sex\n",
    ">- age:             Age\n",
    ">- sibsp:           Number of Siblings/Spouses Aboard\n",
    ">- parch:           Number of Parents/Children Aboard\n",
    ">- ticket:          Ticket Number\n",
    ">- fare:            Passenger Fare\n",
    ">- cabin:           Cabin\n",
    ">- embarked:        Port of Embarkation (C = Cherbourg; Q = Queenstown; S = Southampton)\n",
    "\n",
    ">### Notes on the variable:\n",
    "\n",
    ">Pclass is a proxy for socio-economic status (SES)\n",
    " 1st ~ Upper; 2nd ~ Middle; 3rd ~ Lower\n",
    "\n",
    ">Age is in Years; Fractional if Age less than One (1)\n",
    " If the Age is Estimated, it is in the form xx.5\n",
    "\n",
    ">With respect to the family relation variables (i.e. sibsp and parch)\n",
    "some relations were ignored.  The following are the definitions used\n",
    "for sibsp and parch.\n",
    "\n",
    ">Sibling:  Brother, Sister, Stepbrother, or Stepsister of Passenger Aboard Titanic\n",
    "Spouse:   Husband or Wife of Passenger Aboard Titanic (Mistresses and Fiances Ignored)\n",
    "Parent:   Mother or Father of Passenger Aboard Titanic\n",
    "Child:    Son, Daughter, Stepson, or Stepdaughter of Passenger Aboard Titanic\n",
    "\n",
    ">Other family relatives excluded from this study include cousins,\n",
    "nephews/nieces, aunts/uncles, and in-laws.  Some children travelled\n",
    "only with a nanny, therefore parch=0 for them.  As well, some\n",
    "travelled with very close friends or neighbors in a village, however,\n",
    "the definitions do not support such relations.\n",
    "\n",
    "\n",
    "### First look at the data:\n",
    " \n",
    " Now that we know what the dataset is composed of, we look at its content.\n",
    " \n",
    " We first import the library we would need to import the data and conduct the analysis, then we look at the first lines of the dataframe."
   ]
  },
  {
   "cell_type": "code",
   "execution_count": 22,
   "metadata": {
    "collapsed": false
   },
   "outputs": [
    {
     "name": "stdout",
     "output_type": "stream",
     "text": [
      "Populating the interactive namespace from numpy and matplotlib\n",
      "\n",
      "numpy version number is 1.11.0\n",
      "matplotlib version number is 1.5.1\n",
      "pandas version number is 0.17.1\n",
      "seaborn version number is 0.6.0\n"
     ]
    }
   ],
   "source": [
    "#Usefull library:\n",
    "\n",
    "import numpy as np\n",
    "import matplotlib.pyplot as plt\n",
    "import pandas as pd\n",
    "import seaborn as sns\n",
    "%pylab inline\n",
    "\n",
    "print \"\\nnumpy version number is %s\" %(np.__version__)\n",
    "print \"matplotlib version number is %s\" %(matplotlib.__version__)\n",
    "print \"pandas version number is %s\" %(pd.__version__)\n",
    "print \"seaborn version number is %s\" %(sns.__version__)"
   ]
  },
  {
   "cell_type": "code",
   "execution_count": 23,
   "metadata": {
    "collapsed": false,
    "scrolled": true
   },
   "outputs": [
    {
     "data": {
      "text/html": [
       "<div>\n",
       "<table border=\"1\" class=\"dataframe\">\n",
       "  <thead>\n",
       "    <tr style=\"text-align: right;\">\n",
       "      <th></th>\n",
       "      <th>PassengerId</th>\n",
       "      <th>Survived</th>\n",
       "      <th>Pclass</th>\n",
       "      <th>Name</th>\n",
       "      <th>Sex</th>\n",
       "      <th>Age</th>\n",
       "      <th>SibSp</th>\n",
       "      <th>Parch</th>\n",
       "      <th>Ticket</th>\n",
       "      <th>Fare</th>\n",
       "      <th>Cabin</th>\n",
       "      <th>Embarked</th>\n",
       "    </tr>\n",
       "  </thead>\n",
       "  <tbody>\n",
       "    <tr>\n",
       "      <th>0</th>\n",
       "      <td>1</td>\n",
       "      <td>0</td>\n",
       "      <td>3</td>\n",
       "      <td>Braund, Mr. Owen Harris</td>\n",
       "      <td>male</td>\n",
       "      <td>22</td>\n",
       "      <td>1</td>\n",
       "      <td>0</td>\n",
       "      <td>A/5 21171</td>\n",
       "      <td>7.2500</td>\n",
       "      <td>NaN</td>\n",
       "      <td>S</td>\n",
       "    </tr>\n",
       "    <tr>\n",
       "      <th>1</th>\n",
       "      <td>2</td>\n",
       "      <td>1</td>\n",
       "      <td>1</td>\n",
       "      <td>Cumings, Mrs. John Bradley (Florence Briggs Th...</td>\n",
       "      <td>female</td>\n",
       "      <td>38</td>\n",
       "      <td>1</td>\n",
       "      <td>0</td>\n",
       "      <td>PC 17599</td>\n",
       "      <td>71.2833</td>\n",
       "      <td>C85</td>\n",
       "      <td>C</td>\n",
       "    </tr>\n",
       "    <tr>\n",
       "      <th>2</th>\n",
       "      <td>3</td>\n",
       "      <td>1</td>\n",
       "      <td>3</td>\n",
       "      <td>Heikkinen, Miss. Laina</td>\n",
       "      <td>female</td>\n",
       "      <td>26</td>\n",
       "      <td>0</td>\n",
       "      <td>0</td>\n",
       "      <td>STON/O2. 3101282</td>\n",
       "      <td>7.9250</td>\n",
       "      <td>NaN</td>\n",
       "      <td>S</td>\n",
       "    </tr>\n",
       "    <tr>\n",
       "      <th>3</th>\n",
       "      <td>4</td>\n",
       "      <td>1</td>\n",
       "      <td>1</td>\n",
       "      <td>Futrelle, Mrs. Jacques Heath (Lily May Peel)</td>\n",
       "      <td>female</td>\n",
       "      <td>35</td>\n",
       "      <td>1</td>\n",
       "      <td>0</td>\n",
       "      <td>113803</td>\n",
       "      <td>53.1000</td>\n",
       "      <td>C123</td>\n",
       "      <td>S</td>\n",
       "    </tr>\n",
       "    <tr>\n",
       "      <th>4</th>\n",
       "      <td>5</td>\n",
       "      <td>0</td>\n",
       "      <td>3</td>\n",
       "      <td>Allen, Mr. William Henry</td>\n",
       "      <td>male</td>\n",
       "      <td>35</td>\n",
       "      <td>0</td>\n",
       "      <td>0</td>\n",
       "      <td>373450</td>\n",
       "      <td>8.0500</td>\n",
       "      <td>NaN</td>\n",
       "      <td>S</td>\n",
       "    </tr>\n",
       "  </tbody>\n",
       "</table>\n",
       "</div>"
      ],
      "text/plain": [
       "   PassengerId  Survived  Pclass  \\\n",
       "0            1         0       3   \n",
       "1            2         1       1   \n",
       "2            3         1       3   \n",
       "3            4         1       1   \n",
       "4            5         0       3   \n",
       "\n",
       "                                                Name     Sex  Age  SibSp  \\\n",
       "0                            Braund, Mr. Owen Harris    male   22      1   \n",
       "1  Cumings, Mrs. John Bradley (Florence Briggs Th...  female   38      1   \n",
       "2                             Heikkinen, Miss. Laina  female   26      0   \n",
       "3       Futrelle, Mrs. Jacques Heath (Lily May Peel)  female   35      1   \n",
       "4                           Allen, Mr. William Henry    male   35      0   \n",
       "\n",
       "   Parch            Ticket     Fare Cabin Embarked  \n",
       "0      0         A/5 21171   7.2500   NaN        S  \n",
       "1      0          PC 17599  71.2833   C85        C  \n",
       "2      0  STON/O2. 3101282   7.9250   NaN        S  \n",
       "3      0            113803  53.1000  C123        S  \n",
       "4      0            373450   8.0500   NaN        S  "
      ]
     },
     "execution_count": 23,
     "metadata": {},
     "output_type": "execute_result"
    }
   ],
   "source": [
    "datafile = './Data/titanic_data.csv'\n",
    "titanic_df = pd.read_csv(datafile)\n",
    "titanic_df.head()"
   ]
  },
  {
   "cell_type": "markdown",
   "metadata": {},
   "source": [
    "Looking at the five first lines we see that some information for the Cabin number is lacking (we see Nan values).\n",
    "Now we can look at the numerical data:"
   ]
  },
  {
   "cell_type": "code",
   "execution_count": 24,
   "metadata": {
    "collapsed": false
   },
   "outputs": [
    {
     "data": {
      "text/html": [
       "<div>\n",
       "<table border=\"1\" class=\"dataframe\">\n",
       "  <thead>\n",
       "    <tr style=\"text-align: right;\">\n",
       "      <th></th>\n",
       "      <th>PassengerId</th>\n",
       "      <th>Survived</th>\n",
       "      <th>Pclass</th>\n",
       "      <th>Age</th>\n",
       "      <th>SibSp</th>\n",
       "      <th>Parch</th>\n",
       "      <th>Fare</th>\n",
       "    </tr>\n",
       "  </thead>\n",
       "  <tbody>\n",
       "    <tr>\n",
       "      <th>count</th>\n",
       "      <td>891.000000</td>\n",
       "      <td>891.000000</td>\n",
       "      <td>891.000000</td>\n",
       "      <td>714.000000</td>\n",
       "      <td>891.000000</td>\n",
       "      <td>891.000000</td>\n",
       "      <td>891.000000</td>\n",
       "    </tr>\n",
       "    <tr>\n",
       "      <th>mean</th>\n",
       "      <td>446.000000</td>\n",
       "      <td>0.383838</td>\n",
       "      <td>2.308642</td>\n",
       "      <td>29.699118</td>\n",
       "      <td>0.523008</td>\n",
       "      <td>0.381594</td>\n",
       "      <td>32.204208</td>\n",
       "    </tr>\n",
       "    <tr>\n",
       "      <th>std</th>\n",
       "      <td>257.353842</td>\n",
       "      <td>0.486592</td>\n",
       "      <td>0.836071</td>\n",
       "      <td>14.526497</td>\n",
       "      <td>1.102743</td>\n",
       "      <td>0.806057</td>\n",
       "      <td>49.693429</td>\n",
       "    </tr>\n",
       "    <tr>\n",
       "      <th>min</th>\n",
       "      <td>1.000000</td>\n",
       "      <td>0.000000</td>\n",
       "      <td>1.000000</td>\n",
       "      <td>0.420000</td>\n",
       "      <td>0.000000</td>\n",
       "      <td>0.000000</td>\n",
       "      <td>0.000000</td>\n",
       "    </tr>\n",
       "    <tr>\n",
       "      <th>25%</th>\n",
       "      <td>223.500000</td>\n",
       "      <td>0.000000</td>\n",
       "      <td>2.000000</td>\n",
       "      <td>20.125000</td>\n",
       "      <td>0.000000</td>\n",
       "      <td>0.000000</td>\n",
       "      <td>7.910400</td>\n",
       "    </tr>\n",
       "    <tr>\n",
       "      <th>50%</th>\n",
       "      <td>446.000000</td>\n",
       "      <td>0.000000</td>\n",
       "      <td>3.000000</td>\n",
       "      <td>28.000000</td>\n",
       "      <td>0.000000</td>\n",
       "      <td>0.000000</td>\n",
       "      <td>14.454200</td>\n",
       "    </tr>\n",
       "    <tr>\n",
       "      <th>75%</th>\n",
       "      <td>668.500000</td>\n",
       "      <td>1.000000</td>\n",
       "      <td>3.000000</td>\n",
       "      <td>38.000000</td>\n",
       "      <td>1.000000</td>\n",
       "      <td>0.000000</td>\n",
       "      <td>31.000000</td>\n",
       "    </tr>\n",
       "    <tr>\n",
       "      <th>max</th>\n",
       "      <td>891.000000</td>\n",
       "      <td>1.000000</td>\n",
       "      <td>3.000000</td>\n",
       "      <td>80.000000</td>\n",
       "      <td>8.000000</td>\n",
       "      <td>6.000000</td>\n",
       "      <td>512.329200</td>\n",
       "    </tr>\n",
       "  </tbody>\n",
       "</table>\n",
       "</div>"
      ],
      "text/plain": [
       "       PassengerId    Survived      Pclass         Age       SibSp  \\\n",
       "count   891.000000  891.000000  891.000000  714.000000  891.000000   \n",
       "mean    446.000000    0.383838    2.308642   29.699118    0.523008   \n",
       "std     257.353842    0.486592    0.836071   14.526497    1.102743   \n",
       "min       1.000000    0.000000    1.000000    0.420000    0.000000   \n",
       "25%     223.500000    0.000000    2.000000   20.125000    0.000000   \n",
       "50%     446.000000    0.000000    3.000000   28.000000    0.000000   \n",
       "75%     668.500000    1.000000    3.000000   38.000000    1.000000   \n",
       "max     891.000000    1.000000    3.000000   80.000000    8.000000   \n",
       "\n",
       "            Parch        Fare  \n",
       "count  891.000000  891.000000  \n",
       "mean     0.381594   32.204208  \n",
       "std      0.806057   49.693429  \n",
       "min      0.000000    0.000000  \n",
       "25%      0.000000    7.910400  \n",
       "50%      0.000000   14.454200  \n",
       "75%      0.000000   31.000000  \n",
       "max      6.000000  512.329200  "
      ]
     },
     "execution_count": 24,
     "metadata": {},
     "output_type": "execute_result"
    }
   ],
   "source": [
    "titanic_df.describe()"
   ]
  },
  {
   "cell_type": "markdown",
   "metadata": {},
   "source": [
    "We see that the table contains informations for 891 passengers. 891 values are reported in all the columns except the Age column where only 714 values are reported."
   ]
  },
  {
   "cell_type": "code",
   "execution_count": 25,
   "metadata": {
    "collapsed": false
   },
   "outputs": [
    {
     "data": {
      "text/plain": [
       "177"
      ]
     },
     "execution_count": 25,
     "metadata": {},
     "output_type": "execute_result"
    }
   ],
   "source": [
    "titanic_df['Age'].isnull().sum()"
   ]
  },
  {
   "cell_type": "markdown",
   "metadata": {},
   "source": [
    "We see that the 177 values missing in the Age column are Nan values.\n",
    "Now we can look at the columns with object type because there might be some null values:"
   ]
  },
  {
   "cell_type": "code",
   "execution_count": 26,
   "metadata": {
    "collapsed": false
   },
   "outputs": [
    {
     "data": {
      "text/plain": [
       "Name          0\n",
       "Sex           0\n",
       "Ticket        0\n",
       "Cabin       687\n",
       "Embarked      2\n",
       "dtype: int64"
      ]
     },
     "execution_count": 26,
     "metadata": {},
     "output_type": "execute_result"
    }
   ],
   "source": [
    "titanic_df.select_dtypes(include=[object]).isnull().sum()"
   ]
  },
  {
   "cell_type": "markdown",
   "metadata": {},
   "source": [
    "The columns Cabin and Embarked also show missing values, 687 and 2 missing values respectively.\n",
    "\n",
    "We have seen that some columns are missing values, these columns are:\n",
    "- Age column with 177 missing values\n",
    "- Embarked column with 2 missing values\n",
    "- Cabin with 687 missing values\n",
    "\n",
    "Before handling those missing values we will define the questions to answer first. This way we would have a better control of the effect of any change made on the data over the results."
   ]
  },
  {
   "cell_type": "markdown",
   "metadata": {},
   "source": [
    "## Interesting questions:\n",
    "\n",
    "I a lot of movies were there is an emergency on ship we ear the sentence \"women and children first!\". This data give me a good oportunity to check if women where really saved in priority compared to men during the Titanic event. I would also like to look at the differences in surviving rates between different class (where the highest class more likely to be saved?) and then I will look if differences in survival rate between the class in each gender appear.\n",
    "We would also need to look at the gender proportions in each class.\n",
    "\n",
    "As a reminder we have four main questions:\n",
    "- What are the male and female proportion in each class?\n",
    "- Are women more likely to survive than men?\n",
    "- Are higher class passenger more likely to survive?\n",
    "- Are women more likely to survived compared to men in the same class?\n",
    "- Can we see the same effect of class for men and women?\n",
    "\n",
    "The data needed to answer these question are:\n",
    "- Pclass\n",
    "- Sex\n",
    "- Suvival\n",
    "\n",
    "## Handling missing values:\n",
    "\n",
    "The Columns with missig values are not needed to answer the questions we are looking to answer, so I will drop them. I will however discuss some way we could have dealt with them.\n",
    "\n",
    "### Age data:\n",
    "\n",
    "Some way to handle missing values for the age data could be:\n",
    "- drop the passenger with missing age.\n",
    "- use the median of passenger age.\n",
    "- Grouping the passenger in meaningfull categories, and taking the median of those categories for passenger in each categories that lacks age data.\n",
    "\n",
    "The main problem with droping the passengers with missing age data is that we loose all the other usefull informations that these passengers have.\n",
    "\n",
    "Using the median can be a good first way of handling the data. It is a way of keeping the other data that these passengers offer without changing much of the Age information (if the missing age data are equally distributed within the sample).\n",
    "\n",
    "The last method: Grouping the passengers in groups and then affecting to passengers with missing age informations the median age of his group could lead to a good quality of informations. The definition of the groups is the main factor of quality for this method. With this method we assume that a relationship between the missing value and the caracteristics defining each group exist, if this relationship doesn't exist we would obtain something equivalent to the median of the whole sample (like with the preceding method), thus leading to far less informations than we expected first.\n",
    "\n",
    "### Embarked Data:\n",
    "\n",
    "There is only 2 missing data in this category, by dropping the 2 passengers with missing Embarked data we wouldn't loose much data. This method would be the ideal one.\n",
    "\n",
    "### Cabin data:\n",
    "\n",
    "The high number of missing data in this category would force us to find a method to inferate these data with the data already existing (probably using data from Class, fare, Embarked and ticket columns) and  the help of a plan of the titanic and informations on the numbering system on the titanic. The model created with these informations should be tested on a sample of the data (ideally not used to create it) to check te validity and the accuracy of it's prediction. If the model found does not reach an acceptable level of accuracy we should eather make another model or not use this column."
   ]
  },
  {
   "cell_type": "code",
   "execution_count": 27,
   "metadata": {
    "collapsed": false
   },
   "outputs": [
    {
     "data": {
      "text/html": [
       "<div>\n",
       "<table border=\"1\" class=\"dataframe\">\n",
       "  <thead>\n",
       "    <tr style=\"text-align: right;\">\n",
       "      <th></th>\n",
       "      <th>PassengerId</th>\n",
       "      <th>Survived</th>\n",
       "      <th>Pclass</th>\n",
       "      <th>Name</th>\n",
       "      <th>Sex</th>\n",
       "      <th>SibSp</th>\n",
       "      <th>Parch</th>\n",
       "      <th>Ticket</th>\n",
       "      <th>Fare</th>\n",
       "    </tr>\n",
       "  </thead>\n",
       "  <tbody>\n",
       "    <tr>\n",
       "      <th>0</th>\n",
       "      <td>1</td>\n",
       "      <td>0</td>\n",
       "      <td>3</td>\n",
       "      <td>Braund, Mr. Owen Harris</td>\n",
       "      <td>male</td>\n",
       "      <td>1</td>\n",
       "      <td>0</td>\n",
       "      <td>A/5 21171</td>\n",
       "      <td>7.2500</td>\n",
       "    </tr>\n",
       "    <tr>\n",
       "      <th>1</th>\n",
       "      <td>2</td>\n",
       "      <td>1</td>\n",
       "      <td>1</td>\n",
       "      <td>Cumings, Mrs. John Bradley (Florence Briggs Th...</td>\n",
       "      <td>female</td>\n",
       "      <td>1</td>\n",
       "      <td>0</td>\n",
       "      <td>PC 17599</td>\n",
       "      <td>71.2833</td>\n",
       "    </tr>\n",
       "    <tr>\n",
       "      <th>2</th>\n",
       "      <td>3</td>\n",
       "      <td>1</td>\n",
       "      <td>3</td>\n",
       "      <td>Heikkinen, Miss. Laina</td>\n",
       "      <td>female</td>\n",
       "      <td>0</td>\n",
       "      <td>0</td>\n",
       "      <td>STON/O2. 3101282</td>\n",
       "      <td>7.9250</td>\n",
       "    </tr>\n",
       "    <tr>\n",
       "      <th>3</th>\n",
       "      <td>4</td>\n",
       "      <td>1</td>\n",
       "      <td>1</td>\n",
       "      <td>Futrelle, Mrs. Jacques Heath (Lily May Peel)</td>\n",
       "      <td>female</td>\n",
       "      <td>1</td>\n",
       "      <td>0</td>\n",
       "      <td>113803</td>\n",
       "      <td>53.1000</td>\n",
       "    </tr>\n",
       "    <tr>\n",
       "      <th>4</th>\n",
       "      <td>5</td>\n",
       "      <td>0</td>\n",
       "      <td>3</td>\n",
       "      <td>Allen, Mr. William Henry</td>\n",
       "      <td>male</td>\n",
       "      <td>0</td>\n",
       "      <td>0</td>\n",
       "      <td>373450</td>\n",
       "      <td>8.0500</td>\n",
       "    </tr>\n",
       "  </tbody>\n",
       "</table>\n",
       "</div>"
      ],
      "text/plain": [
       "   PassengerId  Survived  Pclass  \\\n",
       "0            1         0       3   \n",
       "1            2         1       1   \n",
       "2            3         1       3   \n",
       "3            4         1       1   \n",
       "4            5         0       3   \n",
       "\n",
       "                                                Name     Sex  SibSp  Parch  \\\n",
       "0                            Braund, Mr. Owen Harris    male      1      0   \n",
       "1  Cumings, Mrs. John Bradley (Florence Briggs Th...  female      1      0   \n",
       "2                             Heikkinen, Miss. Laina  female      0      0   \n",
       "3       Futrelle, Mrs. Jacques Heath (Lily May Peel)  female      1      0   \n",
       "4                           Allen, Mr. William Henry    male      0      0   \n",
       "\n",
       "             Ticket     Fare  \n",
       "0         A/5 21171   7.2500  \n",
       "1          PC 17599  71.2833  \n",
       "2  STON/O2. 3101282   7.9250  \n",
       "3            113803  53.1000  \n",
       "4            373450   8.0500  "
      ]
     },
     "execution_count": 27,
     "metadata": {},
     "output_type": "execute_result"
    }
   ],
   "source": [
    "titanic_df.drop(['Age', 'Cabin', 'Embarked'] , axis=1).head()"
   ]
  },
  {
   "cell_type": "markdown",
   "metadata": {},
   "source": [
    "## Analysis:\n",
    "\n",
    "### Organising the data:\n",
    "\n",
    "The question we wants to answer are:\n",
    "- What are the male and female proportion in each class?\n",
    "- Are women more likely to survive than men?\n",
    "- Are higher class passenger more likely to survive?\n",
    "- Are women more likely to survived compared to men in the same class?\n",
    "- Can we see the same effect of class for men and women?\n",
    "\n",
    "In all those questions we need to have a separation between surviving and non-surviving people, the number of male and female, and also the proportion of each categories.\n",
    "\n",
    "To use the data, I will first create new dataframes with two columns (male and female) and 3 rows (corresponding to the 3 classes). I will add a Total column and line.\n",
    "\n",
    "To avoid repetitive code, I write a function to create the new dataframes."
   ]
  },
  {
   "cell_type": "code",
   "execution_count": 28,
   "metadata": {
    "collapsed": false
   },
   "outputs": [],
   "source": [
    "def su_co_2D_df(df, suco, group = ['Pclass', 'Sex'], category = 'Survived'):\n",
    "    '''Creates a dataframe with columns from group[1] argument plus a total columns\n",
    "    and lines from group[0]. The arguments are:\n",
    "    df : dataframe to analyse\n",
    "    suco : do we want sum function (suco = sum), or count function (suco=count)\n",
    "    group : optional, list of two category to format the data [columns, rows]. by default ['Pclass', 'Sex']\n",
    "    category : optional, string of categorie to prepare. by default 'Survived'''\n",
    "    new_df = pd.DataFrame()\n",
    "    if suco == 'count':\n",
    "        new_df = pd.crosstab(df[group[0]], df[group[1]], margins=True)        \n",
    "    elif suco == 'sum':\n",
    "        new_df = pd.crosstab(df[group[0]], df[group[1]], values= df[category],\\\n",
    "                             margins=True, aggfunc=sum)\n",
    "    else:\n",
    "        print 'Error, choose sum or count.\\nExit function'\n",
    "        exit\n",
    "    new_df.columns.values[2] = 'Total'\n",
    "    new_df.index.values[3] = 'total'\n",
    "    return new_df"
   ]
  },
  {
   "cell_type": "code",
   "execution_count": 29,
   "metadata": {
    "collapsed": false
   },
   "outputs": [],
   "source": [
    "#In this cell, i will create list for the gender and the color associated to graph data more easily.\n",
    "genders = ['female', 'male']\n",
    "gen_color = ['#E00343', '#2236e8']"
   ]
  },
  {
   "cell_type": "markdown",
   "metadata": {},
   "source": [
    "### Looking at the gender repartition:\n",
    "\n",
    "During this part we will look at the numbers and proportion of passenger of each gender on the ship and within classes.\n",
    "To do so we create two new dataframes, first we use the fuction created before to count the number of values found in the Survive category for each gender and then calulate the proportions."
   ]
  },
  {
   "cell_type": "code",
   "execution_count": 30,
   "metadata": {
    "collapsed": false
   },
   "outputs": [
    {
     "name": "stdout",
     "output_type": "stream",
     "text": [
      "Number of each gender:\n",
      "Sex     female  male  Total\n",
      "Pclass                     \n",
      "1           94   122    216\n",
      "2           76   108    184\n",
      "3          144   347    491\n",
      "total      314   577    891\n",
      "\n",
      "Proportion of each gender:\n",
      "Sex       female      male     Total\n",
      "Pclass                              \n",
      "1       0.435185  0.564815  0.242424\n",
      "2       0.413043  0.586957  0.206510\n",
      "3       0.293279  0.706721  0.551066\n",
      "total   0.352413  0.647587  1.000000\n"
     ]
    }
   ],
   "source": [
    "gen_cla_df = su_co_2D_df(titanic_df, 'count')\n",
    "\n",
    "# After the first review it appears that using the pd.crosstab built in could give me the \n",
    "# percentage dataframe, but I would need to use the normalize option and this option is \n",
    "# not available in pandas 17 (appears in pandas 18.1) which was used in this notebook.\n",
    "gen_cla_propor_df = gen_cla_df.apply(lambda x: x/gen_cla_df['Total'])\n",
    "gen_cla_propor_df['Total'] = gen_cla_df['Total']/gen_cla_df.loc['total','Total']\n",
    "\n",
    "print 'Number of each gender:'\n",
    "print gen_cla_df\n",
    "print '\\nProportion of each gender:'\n",
    "print gen_cla_propor_df"
   ]
  },
  {
   "cell_type": "markdown",
   "metadata": {},
   "source": [
    "To make the difference more visual, we make visualisation graphics.\n",
    "First we look at the proportion of men and women onboard."
   ]
  },
  {
   "cell_type": "code",
   "execution_count": 31,
   "metadata": {
    "collapsed": false
   },
   "outputs": [
    {
     "data": {
      "text/plain": [
       "<matplotlib.text.Text at 0x7feabe362c10>"
      ]
     },
     "execution_count": 31,
     "metadata": {},
     "output_type": "execute_result"
    },
    {
     "data": {
      "image/png": "[encoded data removed]",
      "text/plain": [
       "<matplotlib.figure.Figure at 0x7feabe3e9ed0>"
      ]
     },
     "metadata": {},
     "output_type": "display_data"
    }
   ],
   "source": [
    "fig, axs = plt.subplots(1, 2, figsize=(11,5))\n",
    "gen_cla_propor_df.loc['total',genders].plot(kind='pie', colors= gen_color, ax=axs[0],\\\n",
    "                                   title='proportion of men and female on board', rot=0, autopct='%1.f%%')\n",
    "axs[0].set_ylabel('')\n",
    "gen_cla_df.loc['total', genders].plot(kind='bar', color=gen_color, ax=axs[1], rot=0,\\\n",
    "                                     title='number of men and women onboard')\n",
    "axs[1].set_ylabel('number of passenger')\n",
    "axs[1].set_xlabel('gender')"
   ]
  },
  {
   "cell_type": "markdown",
   "metadata": {},
   "source": [
    "On the titanic men represented two third of the passengers.\n",
    "Now we can look at the number of passenger per class."
   ]
  },
  {
   "cell_type": "code",
   "execution_count": 32,
   "metadata": {
    "collapsed": false
   },
   "outputs": [
    {
     "data": {
      "text/plain": [
       "<matplotlib.text.Text at 0x7feabe4e7c50>"
      ]
     },
     "execution_count": 32,
     "metadata": {},
     "output_type": "execute_result"
    },
    {
     "data": {
      "image/png": "[encoded data removed]",
      "text/plain": [
       "<matplotlib.figure.Figure at 0x7feabe8a56d0>"
      ]
     },
     "metadata": {},
     "output_type": "display_data"
    }
   ],
   "source": [
    "gen_cla_df['Total'].plot(kind='bar', rot=0, title='number of passenger per class',\\\n",
    "                        color= '#30a170', figsize=(8,5))\n",
    "plt.ylabel('number of passenger')\n",
    "plt.xlabel('Class of the passengers')"
   ]
  },
  {
   "cell_type": "markdown",
   "metadata": {},
   "source": [
    "Interestingly the number of passenger in the second Class is lower than the number of passenger in the first Class. The third class shows the more passengers. Now we can compare the proportion of men and women in each Class with the general proportion (approximately 35% women and 65% men) found before."
   ]
  },
  {
   "cell_type": "code",
   "execution_count": 33,
   "metadata": {
    "collapsed": false
   },
   "outputs": [
    {
     "data": {
      "text/plain": [
       "<matplotlib.text.Text at 0x7feabe243210>"
      ]
     },
     "execution_count": 33,
     "metadata": {},
     "output_type": "execute_result"
    },
    {
     "data": {
      "image/png": "[encoded data removed]",
      "text/plain": [
       "<matplotlib.figure.Figure at 0x7feabe356bd0>"
      ]
     },
     "metadata": {},
     "output_type": "display_data"
    }
   ],
   "source": [
    "gen_cla_propor_df.loc[range(0,3), genders].plot(kind='bar', color= gen_color, figsize=(8,5),\\\n",
    "                       title='proportion of different genders in the classes', ylim=(0,1), rot=0)\n",
    "plt.hlines([0.65,0.35], -0.5, 2.5, colors=['#0f406b', '#b80934'])\n",
    "plt.ylabel('proportion of passenger')\n",
    "plt.xlabel('Class of the passengers')"
   ]
  },
  {
   "cell_type": "markdown",
   "metadata": {},
   "source": [
    "This bar graph shows the proportion of men and women in each class and the horizontal blue and red lines represent respectively the general proportion of men and women. We see that the proportion of men and women in the different classes shows a difference with the total proportion on the titanic (65% men and 35% women).\n",
    "In the first two classes men and women proportion are quite close. In the first class there is 57% men and 43% women, the second class shows a  slightly higher men proportion than the first class (59% men and 41% women). The third class shows the lowest proportion of women with 29% women and 71% of men."
   ]
  },
  {
   "cell_type": "markdown",
   "metadata": {
    "collapsed": true
   },
   "source": [
    "### Analysing the survival rates\n",
    "\n",
    "We now know that there was more men than women onboard the titanic, and that this difference is bigger in the third class. Now I will investigate the survival rate of men and women.\n",
    "\n",
    "We follow the same procedure as befrore, we first create summary dataframe and the we graph the information from those dataframes."
   ]
  },
  {
   "cell_type": "code",
   "execution_count": 34,
   "metadata": {
    "collapsed": false
   },
   "outputs": [
    {
     "name": "stdout",
     "output_type": "stream",
     "text": [
      "Sex     female  male  Total\n",
      "Pclass                     \n",
      "1           91    45    136\n",
      "2           70    17     87\n",
      "3           72    47    119\n",
      "total      233   109    342\n",
      "\n",
      "Sex       female      male     Total\n",
      "Pclass                              \n",
      "1       0.968085  0.368852  0.629630\n",
      "2       0.921053  0.157407  0.472826\n",
      "3       0.500000  0.135447  0.242363\n",
      "total   0.742038  0.188908  0.383838\n"
     ]
    }
   ],
   "source": [
    "srvied_df = su_co_2D_df(titanic_df, 'sum')\n",
    "srvied_propor_df = srvied_df/gen_cla_df\n",
    "print srvied_df\n",
    "print\n",
    "print srvied_propor_df"
   ]
  },
  {
   "cell_type": "code",
   "execution_count": 35,
   "metadata": {
    "collapsed": false
   },
   "outputs": [
    {
     "data": {
      "text/plain": [
       "<matplotlib.text.Text at 0x7feabe086fd0>"
      ]
     },
     "execution_count": 35,
     "metadata": {},
     "output_type": "execute_result"
    },
    {
     "data": {
      "image/png": "[encoded data removed]",
      "text/plain": [
       "<matplotlib.figure.Figure at 0x7feabe0dbb10>"
      ]
     },
     "metadata": {},
     "output_type": "display_data"
    }
   ],
   "source": [
    "fig, axs = plt.subplots(1, 2, figsize=(12,3))\n",
    "\n",
    "#first plot plot on the left\n",
    "srvied_propor_df.loc['total', genders].plot(kind='barh', color= gen_color, rot=0, ax=axs[0],\\\n",
    "                                           title='proportion of men and women who survived', xlim=(0,1))\n",
    "axs[0].set_xlabel('proportion of passenger')\n",
    "axs[0].set_ylabel('Gender')\n",
    "\n",
    "#plot on the right:\n",
    "srvied_df.loc['total', genders].plot(kind='barh', color= gen_color, rot=0, ax=axs[1],\\\n",
    "                                           title='number of men and women who survived')\n",
    "axs[1].set_xlabel('number of passenger')\n",
    "axs[1].set_ylabel('')"
   ]
  },
  {
   "cell_type": "markdown",
   "metadata": {},
   "source": [
    "We see that 74% of women survived compared to only 19% of men. We saw before that the total number of women onboard the Titanic was smaller than the number of men (314 vs 577), but the total number of women that survived is higher than the number of men, respectively 233 and 109. If the chances of men and women to be saved were equal, we would expect the same proportions (relative to each gender) of men and women to be saved. Because the proportion of women that survived is strikingly higher than the men survival rate, it suggest that there was a priority in saving women and that it seems to have worked.\n",
    "\n",
    "I will now investigate if there was a priority for passenger from higher class."
   ]
  },
  {
   "cell_type": "code",
   "execution_count": 36,
   "metadata": {
    "collapsed": false
   },
   "outputs": [
    {
     "data": {
      "text/plain": [
       "<matplotlib.text.Text at 0x7feabe0272d0>"
      ]
     },
     "execution_count": 36,
     "metadata": {},
     "output_type": "execute_result"
    },
    {
     "data": {
      "image/png": "[encoded data removed]",
      "text/plain": [
       "<matplotlib.figure.Figure at 0x7feabe0d5750>"
      ]
     },
     "metadata": {},
     "output_type": "display_data"
    }
   ],
   "source": [
    "srvied_propor_df['Total'].plot(kind='bar', title='proportion of surviving passengers in each class',\\\n",
    "                                                      color='#30a170', figsize=(8,5), ylim=(0,1), rot=0)\n",
    "plt.ylabel('proportion of passenger surviving')\n",
    "plt.xlabel('Class of the passengers')"
   ]
  },
  {
   "cell_type": "markdown",
   "metadata": {},
   "source": [
    "The chance to be saved decreased from the first class to the third one. Because people in first class payed higher fees than people in second class and passenger in both category payed higher fees than passenger of the third class, the class could be seen as an approximation for the social category of the passengers (see data description at the beginning of the document). With this approximation of social category, it suggest that passenger with a higher social status were saved in priority on the titanic.\n",
    "\n",
    "An interresting question is to look at the effect of social status on the survival rates for each gender. Were men and women affected in the same way by their social status?"
   ]
  },
  {
   "cell_type": "code",
   "execution_count": 37,
   "metadata": {
    "collapsed": false
   },
   "outputs": [
    {
     "data": {
      "text/plain": [
       "<matplotlib.text.Text at 0x7feabe7f2c50>"
      ]
     },
     "execution_count": 37,
     "metadata": {},
     "output_type": "execute_result"
    },
    {
     "data": {
      "image/png": "[encoded data removed]",
      "text/plain": [
       "<matplotlib.figure.Figure at 0x7feabdfe3fd0>"
      ]
     },
     "metadata": {},
     "output_type": "display_data"
    }
   ],
   "source": [
    "srvied_propor_df.loc[range(0,3), genders].plot(kind='bar', figsize=(8,5), color= gen_color, rot=0,\\\n",
    "                                              title='proportion of surviving men and women in each class')\n",
    "plt.hlines([0.19,0.74], -0.5, 2.5, colors=['#0f406b', '#b80934'])\n",
    "plt.ylabel('proportion of passenger')\n",
    "plt.xlabel('Class of the passengers')"
   ]
  },
  {
   "cell_type": "markdown",
   "metadata": {},
   "source": [
    "On this graph we see men (blue bar) and women (red bar) survival rate in each class. The horizontal blue and red lines represent respectively the global survival rates of men and women.\n",
    "We see that in every category women had higher survival rates than men. We see the effect of class on men and women. Women in first and second class had probably a higher priority to be saved, 97% and 92% of women survived and only 50% of women in the third class survived. For men the effect of class was really noticable for the first class but they where probably less prioritized compare to women from the third category(37% survived). Men in second and third class had a small and close survival rate (16% and 14%).\n",
    "\n",
    "### Conclusion\n",
    "\n",
    "We have seen that there was more men than women on the titanic. In each class there was more men than women but the higher the class, the smaller the differences. Passenger in higher class had a higher survival rate. Women had a higher survival rate, generally and in each class compared to men. Women in the first two classes had a higher survival rate than in the third class. For men, the first class passengers had a higher survival rate than those in second and third class.\n",
    "\n",
    "Comparing the survival rates of men and women don't give direct information on the priority of men and women during the saving operations on the Titanic. We can suppose that the high survival rate of women and the low survival rate of men was related to the priority of passenger during the saving operations but it is not a proof. The data analysed in this data set correspond to a sample of 891 passengers of the 1378 passengers aboard (see [titanic](https://en.wikipedia.org/wiki/RMS_Titanic#Aftermath_of_sinking)), this sample is supposed to be representative of the passsengers aboard.\n",
    "\n",
    "With the limitations stated before in mind, the results suggest that the well know expression \"children and women first\" in case of a ship sinking is not only a Hollywood stereotype but was probably a real procedure on the Titanic. Women had higher survival rates than men, that suggest a prioritization of saving women over men during the saving operation. Even women with lower social status had a higher survival rate than men from the highest social status. Also we have seen that people from higher social ground were more likely to survive.\n",
    "\n",
    "In this study we have only looked at the survival rates of women, but we haven't looked if the children had also a higher survival rates than adults. To do so we would have to deal with the missing values in the ages column, then we would have to define an age limit to describe what is a child and create a new data column for each passenger to know if it was an adult or a child. After that we would have to conduct the survival rate analysis on this information.\n",
    "\n",
    "\n",
    "\n",
    "## Bibliography:\n",
    "\n",
    "- [kaagle website](https://www.kaggle.com/c/titanic/data)\n",
    "- [pandas documentation](http://pandas.pydata.org/pandas-docs/stable/api.html)\n",
    "- matplotlib documentation (from the python shell)\n",
    "- [titanic on wikipedia](https://en.wikipedia.org/wiki/RMS_Titanic#Aftermath_of_sinking)"
   ]
  }
 ],
 "metadata": {
  "kernelspec": {
   "display_name": "Python 2",
   "language": "python",
   "name": "python2"
  },
  "language_info": {
   "codemirror_mode": {
    "name": "ipython",
    "version": 2
   },
   "file_extension": ".py",
   "mimetype": "text/x-python",
   "name": "python",
   "nbconvert_exporter": "python",
   "pygments_lexer": "ipython2",
   "version": "2.7.12"
  }
 },
 "nbformat": 4,
 "nbformat_minor": 0
}
